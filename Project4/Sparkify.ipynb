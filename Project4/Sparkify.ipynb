{
 "cells": [
  {
   "cell_type": "markdown",
   "metadata": {},
   "source": [
    "# Sparkify Capstone Project"
   ]
  },
  {
   "cell_type": "markdown",
   "metadata": {},
   "source": [
    "1st - Importing libraries"
   ]
  },
  {
   "cell_type": "code",
   "execution_count": 1,
   "metadata": {},
   "outputs": [],
   "source": [
    "# import libraries\n",
    "import pyspark\n",
    "from pyspark import SparkConf\n",
    "from pyspark.sql import SparkSession\n",
    "from pyspark.sql.functions import udf\n",
    "from pyspark.sql.types import StringType\n",
    "from pyspark.sql.types import IntegerType\n",
    "from pyspark.sql.functions import isnan, count, when, col, desc, udf, col, sort_array, asc, avg\n",
    "from pyspark.sql.functions import sum as Fsum\n",
    "from pyspark.sql.window import Window\n",
    "from pyspark.sql import Row\n",
    "from pyspark.sql import functions as F\n",
    "from pyspark.sql.functions import *\n",
    "\n",
    "from pyspark.ml import Pipeline\n",
    "from pyspark.ml.classification import LogisticRegression, RandomForestClassifier, GBTClassifier, LinearSVC, NaiveBayes\n",
    "from pyspark.ml.evaluation import MulticlassClassificationEvaluator\n",
    "from pyspark.ml.feature import CountVectorizer, IDF, PCA, RegexTokenizer, VectorAssembler, Normalizer, StandardScaler\n",
    "from pyspark.ml.regression import LinearRegression\n",
    "from pyspark.ml.tuning import CrossValidator, ParamGridBuilder\n",
    "from pyspark.ml.classification import LogisticRegression\n",
    "from pyspark.ml.tuning import ParamGridBuilder, CrossValidator\n",
    "from pyspark.ml.evaluation import BinaryClassificationEvaluator\n",
    "from pyspark.mllib.evaluation import BinaryClassificationMetrics\n",
    "\n",
    "import datetime\n",
    "import time\n",
    "\n",
    "import pandas as pd\n",
    "import numpy as np\n",
    "import re\n",
    "import matplotlib.pyplot as plt\n",
    "import seaborn as sns\n",
    "sns.set()"
   ]
  },
  {
   "cell_type": "code",
   "execution_count": 2,
   "metadata": {},
   "outputs": [],
   "source": [
    "# create a Spark session\n",
    "spark = SparkSession \\\n",
    "    .builder \\\n",
    "    .appName(\"Sparkify Capstone Project\") \\\n",
    "    .getOrCreate()\n"
   ]
  },
  {
   "cell_type": "code",
   "execution_count": 3,
   "metadata": {},
   "outputs": [
    {
     "data": {
      "text/plain": [
       "[('spark.driver.port', '33079'),\n",
       " ('spark.app.name', 'Sparkify Capstone Project'),\n",
       " ('spark.app.id', 'local-1652516464003'),\n",
       " ('spark.rdd.compress', 'True'),\n",
       " ('spark.serializer.objectStreamReset', '100'),\n",
       " ('spark.master', 'local[*]'),\n",
       " ('spark.executor.id', 'driver'),\n",
       " ('spark.submit.deployMode', 'client'),\n",
       " ('spark.driver.host', '43a8e80b00ad'),\n",
       " ('spark.ui.showConsoleProgress', 'true')]"
      ]
     },
     "execution_count": 3,
     "metadata": {},
     "output_type": "execute_result"
    }
   ],
   "source": [
    "# Get all values as a list of key-value pairs\n",
    "spark.sparkContext.getConf().getAll()"
   ]
  },
  {
   "cell_type": "markdown",
   "metadata": {},
   "source": [
    "# Load and Clean Dataset\n"
   ]
  },
  {
   "cell_type": "markdown",
   "metadata": {},
   "source": [
    "### Loading and Checking the data"
   ]
  },
  {
   "cell_type": "code",
   "execution_count": 4,
   "metadata": {},
   "outputs": [
    {
     "name": "stdout",
     "output_type": "stream",
     "text": [
      "root\n",
      " |-- artist: string (nullable = true)\n",
      " |-- auth: string (nullable = true)\n",
      " |-- firstName: string (nullable = true)\n",
      " |-- gender: string (nullable = true)\n",
      " |-- itemInSession: long (nullable = true)\n",
      " |-- lastName: string (nullable = true)\n",
      " |-- length: double (nullable = true)\n",
      " |-- level: string (nullable = true)\n",
      " |-- location: string (nullable = true)\n",
      " |-- method: string (nullable = true)\n",
      " |-- page: string (nullable = true)\n",
      " |-- registration: long (nullable = true)\n",
      " |-- sessionId: long (nullable = true)\n",
      " |-- song: string (nullable = true)\n",
      " |-- status: long (nullable = true)\n",
      " |-- ts: long (nullable = true)\n",
      " |-- userAgent: string (nullable = true)\n",
      " |-- userId: string (nullable = true)\n",
      "\n"
     ]
    }
   ],
   "source": [
    "# Load JSON file and print the schema \n",
    "data_path = 'mini_sparkify_event_data.json'\n",
    "df = spark.read.json(data_path)\n",
    "df.printSchema()"
   ]
  },
  {
   "cell_type": "code",
   "execution_count": 5,
   "metadata": {},
   "outputs": [
    {
     "data": {
      "text/plain": [
       "286500"
      ]
     },
     "execution_count": 5,
     "metadata": {},
     "output_type": "execute_result"
    }
   ],
   "source": [
    "df.count()"
   ]
  },
  {
   "cell_type": "code",
   "execution_count": 6,
   "metadata": {},
   "outputs": [
    {
     "data": {
      "text/plain": [
       "[Row(artist='Martha Tilston', auth='Logged In', firstName='Colin', gender='M', itemInSession=50, lastName='Freeman', length=277.89016, level='paid', location='Bakersfield, CA', method='PUT', page='NextSong', registration=1538173362000, sessionId=29, song='Rockpools', status=200, ts=1538352117000, userAgent='Mozilla/5.0 (Windows NT 6.1; WOW64; rv:31.0) Gecko/20100101 Firefox/31.0', userId='30'),\n",
       " Row(artist='Five Iron Frenzy', auth='Logged In', firstName='Micah', gender='M', itemInSession=79, lastName='Long', length=236.09424, level='free', location='Boston-Cambridge-Newton, MA-NH', method='PUT', page='NextSong', registration=1538331630000, sessionId=8, song='Canada', status=200, ts=1538352180000, userAgent='\"Mozilla/5.0 (Windows NT 6.1; WOW64) AppleWebKit/537.36 (KHTML, like Gecko) Chrome/37.0.2062.103 Safari/537.36\"', userId='9')]"
      ]
     },
     "execution_count": 6,
     "metadata": {},
     "output_type": "execute_result"
    }
   ],
   "source": [
    "df.head(2)"
   ]
  },
  {
   "cell_type": "markdown",
   "metadata": {},
   "source": [
    "Let's see all the columns and check if there any null and duplicates values"
   ]
  },
  {
   "cell_type": "code",
   "execution_count": 7,
   "metadata": {},
   "outputs": [
    {
     "data": {
      "text/html": [
       "<div>\n",
       "<style scoped>\n",
       "    .dataframe tbody tr th:only-of-type {\n",
       "        vertical-align: middle;\n",
       "    }\n",
       "\n",
       "    .dataframe tbody tr th {\n",
       "        vertical-align: top;\n",
       "    }\n",
       "\n",
       "    .dataframe thead th {\n",
       "        text-align: right;\n",
       "    }\n",
       "</style>\n",
       "<table border=\"1\" class=\"dataframe\">\n",
       "  <thead>\n",
       "    <tr style=\"text-align: right;\">\n",
       "      <th></th>\n",
       "      <th>artist</th>\n",
       "      <th>auth</th>\n",
       "      <th>firstName</th>\n",
       "      <th>gender</th>\n",
       "      <th>itemInSession</th>\n",
       "      <th>lastName</th>\n",
       "      <th>length</th>\n",
       "      <th>level</th>\n",
       "      <th>location</th>\n",
       "      <th>method</th>\n",
       "      <th>page</th>\n",
       "      <th>registration</th>\n",
       "      <th>sessionId</th>\n",
       "      <th>song</th>\n",
       "      <th>status</th>\n",
       "      <th>ts</th>\n",
       "      <th>userAgent</th>\n",
       "      <th>userId</th>\n",
       "    </tr>\n",
       "  </thead>\n",
       "  <tbody>\n",
       "    <tr>\n",
       "      <th>0</th>\n",
       "      <td>Martha Tilston</td>\n",
       "      <td>Logged In</td>\n",
       "      <td>Colin</td>\n",
       "      <td>M</td>\n",
       "      <td>50</td>\n",
       "      <td>Freeman</td>\n",
       "      <td>277.89016</td>\n",
       "      <td>paid</td>\n",
       "      <td>Bakersfield, CA</td>\n",
       "      <td>PUT</td>\n",
       "      <td>NextSong</td>\n",
       "      <td>1.538173e+12</td>\n",
       "      <td>29</td>\n",
       "      <td>Rockpools</td>\n",
       "      <td>200</td>\n",
       "      <td>1538352117000</td>\n",
       "      <td>Mozilla/5.0 (Windows NT 6.1; WOW64; rv:31.0) G...</td>\n",
       "      <td>30</td>\n",
       "    </tr>\n",
       "    <tr>\n",
       "      <th>1</th>\n",
       "      <td>Five Iron Frenzy</td>\n",
       "      <td>Logged In</td>\n",
       "      <td>Micah</td>\n",
       "      <td>M</td>\n",
       "      <td>79</td>\n",
       "      <td>Long</td>\n",
       "      <td>236.09424</td>\n",
       "      <td>free</td>\n",
       "      <td>Boston-Cambridge-Newton, MA-NH</td>\n",
       "      <td>PUT</td>\n",
       "      <td>NextSong</td>\n",
       "      <td>1.538332e+12</td>\n",
       "      <td>8</td>\n",
       "      <td>Canada</td>\n",
       "      <td>200</td>\n",
       "      <td>1538352180000</td>\n",
       "      <td>\"Mozilla/5.0 (Windows NT 6.1; WOW64) AppleWebK...</td>\n",
       "      <td>9</td>\n",
       "    </tr>\n",
       "    <tr>\n",
       "      <th>2</th>\n",
       "      <td>Adam Lambert</td>\n",
       "      <td>Logged In</td>\n",
       "      <td>Colin</td>\n",
       "      <td>M</td>\n",
       "      <td>51</td>\n",
       "      <td>Freeman</td>\n",
       "      <td>282.82730</td>\n",
       "      <td>paid</td>\n",
       "      <td>Bakersfield, CA</td>\n",
       "      <td>PUT</td>\n",
       "      <td>NextSong</td>\n",
       "      <td>1.538173e+12</td>\n",
       "      <td>29</td>\n",
       "      <td>Time For Miracles</td>\n",
       "      <td>200</td>\n",
       "      <td>1538352394000</td>\n",
       "      <td>Mozilla/5.0 (Windows NT 6.1; WOW64; rv:31.0) G...</td>\n",
       "      <td>30</td>\n",
       "    </tr>\n",
       "    <tr>\n",
       "      <th>3</th>\n",
       "      <td>Enigma</td>\n",
       "      <td>Logged In</td>\n",
       "      <td>Micah</td>\n",
       "      <td>M</td>\n",
       "      <td>80</td>\n",
       "      <td>Long</td>\n",
       "      <td>262.71302</td>\n",
       "      <td>free</td>\n",
       "      <td>Boston-Cambridge-Newton, MA-NH</td>\n",
       "      <td>PUT</td>\n",
       "      <td>NextSong</td>\n",
       "      <td>1.538332e+12</td>\n",
       "      <td>8</td>\n",
       "      <td>Knocking On Forbidden Doors</td>\n",
       "      <td>200</td>\n",
       "      <td>1538352416000</td>\n",
       "      <td>\"Mozilla/5.0 (Windows NT 6.1; WOW64) AppleWebK...</td>\n",
       "      <td>9</td>\n",
       "    </tr>\n",
       "    <tr>\n",
       "      <th>4</th>\n",
       "      <td>Daft Punk</td>\n",
       "      <td>Logged In</td>\n",
       "      <td>Colin</td>\n",
       "      <td>M</td>\n",
       "      <td>52</td>\n",
       "      <td>Freeman</td>\n",
       "      <td>223.60771</td>\n",
       "      <td>paid</td>\n",
       "      <td>Bakersfield, CA</td>\n",
       "      <td>PUT</td>\n",
       "      <td>NextSong</td>\n",
       "      <td>1.538173e+12</td>\n",
       "      <td>29</td>\n",
       "      <td>Harder Better Faster Stronger</td>\n",
       "      <td>200</td>\n",
       "      <td>1538352676000</td>\n",
       "      <td>Mozilla/5.0 (Windows NT 6.1; WOW64; rv:31.0) G...</td>\n",
       "      <td>30</td>\n",
       "    </tr>\n",
       "    <tr>\n",
       "      <th>5</th>\n",
       "      <td>The All-American Rejects</td>\n",
       "      <td>Logged In</td>\n",
       "      <td>Micah</td>\n",
       "      <td>M</td>\n",
       "      <td>81</td>\n",
       "      <td>Long</td>\n",
       "      <td>208.29995</td>\n",
       "      <td>free</td>\n",
       "      <td>Boston-Cambridge-Newton, MA-NH</td>\n",
       "      <td>PUT</td>\n",
       "      <td>NextSong</td>\n",
       "      <td>1.538332e+12</td>\n",
       "      <td>8</td>\n",
       "      <td>Don't Leave Me</td>\n",
       "      <td>200</td>\n",
       "      <td>1538352678000</td>\n",
       "      <td>\"Mozilla/5.0 (Windows NT 6.1; WOW64) AppleWebK...</td>\n",
       "      <td>9</td>\n",
       "    </tr>\n",
       "    <tr>\n",
       "      <th>6</th>\n",
       "      <td>The Velvet Underground / Nico</td>\n",
       "      <td>Logged In</td>\n",
       "      <td>Micah</td>\n",
       "      <td>M</td>\n",
       "      <td>82</td>\n",
       "      <td>Long</td>\n",
       "      <td>260.46649</td>\n",
       "      <td>free</td>\n",
       "      <td>Boston-Cambridge-Newton, MA-NH</td>\n",
       "      <td>PUT</td>\n",
       "      <td>NextSong</td>\n",
       "      <td>1.538332e+12</td>\n",
       "      <td>8</td>\n",
       "      <td>Run Run Run</td>\n",
       "      <td>200</td>\n",
       "      <td>1538352886000</td>\n",
       "      <td>\"Mozilla/5.0 (Windows NT 6.1; WOW64) AppleWebK...</td>\n",
       "      <td>9</td>\n",
       "    </tr>\n",
       "    <tr>\n",
       "      <th>7</th>\n",
       "      <td>Starflyer 59</td>\n",
       "      <td>Logged In</td>\n",
       "      <td>Colin</td>\n",
       "      <td>M</td>\n",
       "      <td>53</td>\n",
       "      <td>Freeman</td>\n",
       "      <td>185.44281</td>\n",
       "      <td>paid</td>\n",
       "      <td>Bakersfield, CA</td>\n",
       "      <td>PUT</td>\n",
       "      <td>NextSong</td>\n",
       "      <td>1.538173e+12</td>\n",
       "      <td>29</td>\n",
       "      <td>Passengers (Old Album Version)</td>\n",
       "      <td>200</td>\n",
       "      <td>1538352899000</td>\n",
       "      <td>Mozilla/5.0 (Windows NT 6.1; WOW64; rv:31.0) G...</td>\n",
       "      <td>30</td>\n",
       "    </tr>\n",
       "    <tr>\n",
       "      <th>8</th>\n",
       "      <td>None</td>\n",
       "      <td>Logged In</td>\n",
       "      <td>Colin</td>\n",
       "      <td>M</td>\n",
       "      <td>54</td>\n",
       "      <td>Freeman</td>\n",
       "      <td>NaN</td>\n",
       "      <td>paid</td>\n",
       "      <td>Bakersfield, CA</td>\n",
       "      <td>PUT</td>\n",
       "      <td>Add to Playlist</td>\n",
       "      <td>1.538173e+12</td>\n",
       "      <td>29</td>\n",
       "      <td>None</td>\n",
       "      <td>200</td>\n",
       "      <td>1538352905000</td>\n",
       "      <td>Mozilla/5.0 (Windows NT 6.1; WOW64; rv:31.0) G...</td>\n",
       "      <td>30</td>\n",
       "    </tr>\n",
       "    <tr>\n",
       "      <th>9</th>\n",
       "      <td>Frumpies</td>\n",
       "      <td>Logged In</td>\n",
       "      <td>Colin</td>\n",
       "      <td>M</td>\n",
       "      <td>55</td>\n",
       "      <td>Freeman</td>\n",
       "      <td>134.47791</td>\n",
       "      <td>paid</td>\n",
       "      <td>Bakersfield, CA</td>\n",
       "      <td>PUT</td>\n",
       "      <td>NextSong</td>\n",
       "      <td>1.538173e+12</td>\n",
       "      <td>29</td>\n",
       "      <td>Fuck Kitty</td>\n",
       "      <td>200</td>\n",
       "      <td>1538353084000</td>\n",
       "      <td>Mozilla/5.0 (Windows NT 6.1; WOW64; rv:31.0) G...</td>\n",
       "      <td>30</td>\n",
       "    </tr>\n",
       "  </tbody>\n",
       "</table>\n",
       "</div>"
      ],
      "text/plain": [
       "                          artist       auth firstName gender  itemInSession  \\\n",
       "0                 Martha Tilston  Logged In     Colin      M             50   \n",
       "1               Five Iron Frenzy  Logged In     Micah      M             79   \n",
       "2                   Adam Lambert  Logged In     Colin      M             51   \n",
       "3                         Enigma  Logged In     Micah      M             80   \n",
       "4                      Daft Punk  Logged In     Colin      M             52   \n",
       "5       The All-American Rejects  Logged In     Micah      M             81   \n",
       "6  The Velvet Underground / Nico  Logged In     Micah      M             82   \n",
       "7                   Starflyer 59  Logged In     Colin      M             53   \n",
       "8                           None  Logged In     Colin      M             54   \n",
       "9                       Frumpies  Logged In     Colin      M             55   \n",
       "\n",
       "  lastName     length level                        location method  \\\n",
       "0  Freeman  277.89016  paid                 Bakersfield, CA    PUT   \n",
       "1     Long  236.09424  free  Boston-Cambridge-Newton, MA-NH    PUT   \n",
       "2  Freeman  282.82730  paid                 Bakersfield, CA    PUT   \n",
       "3     Long  262.71302  free  Boston-Cambridge-Newton, MA-NH    PUT   \n",
       "4  Freeman  223.60771  paid                 Bakersfield, CA    PUT   \n",
       "5     Long  208.29995  free  Boston-Cambridge-Newton, MA-NH    PUT   \n",
       "6     Long  260.46649  free  Boston-Cambridge-Newton, MA-NH    PUT   \n",
       "7  Freeman  185.44281  paid                 Bakersfield, CA    PUT   \n",
       "8  Freeman        NaN  paid                 Bakersfield, CA    PUT   \n",
       "9  Freeman  134.47791  paid                 Bakersfield, CA    PUT   \n",
       "\n",
       "              page  registration  sessionId                            song  \\\n",
       "0         NextSong  1.538173e+12         29                       Rockpools   \n",
       "1         NextSong  1.538332e+12          8                          Canada   \n",
       "2         NextSong  1.538173e+12         29               Time For Miracles   \n",
       "3         NextSong  1.538332e+12          8     Knocking On Forbidden Doors   \n",
       "4         NextSong  1.538173e+12         29   Harder Better Faster Stronger   \n",
       "5         NextSong  1.538332e+12          8                  Don't Leave Me   \n",
       "6         NextSong  1.538332e+12          8                     Run Run Run   \n",
       "7         NextSong  1.538173e+12         29  Passengers (Old Album Version)   \n",
       "8  Add to Playlist  1.538173e+12         29                            None   \n",
       "9         NextSong  1.538173e+12         29                      Fuck Kitty   \n",
       "\n",
       "   status             ts                                          userAgent  \\\n",
       "0     200  1538352117000  Mozilla/5.0 (Windows NT 6.1; WOW64; rv:31.0) G...   \n",
       "1     200  1538352180000  \"Mozilla/5.0 (Windows NT 6.1; WOW64) AppleWebK...   \n",
       "2     200  1538352394000  Mozilla/5.0 (Windows NT 6.1; WOW64; rv:31.0) G...   \n",
       "3     200  1538352416000  \"Mozilla/5.0 (Windows NT 6.1; WOW64) AppleWebK...   \n",
       "4     200  1538352676000  Mozilla/5.0 (Windows NT 6.1; WOW64; rv:31.0) G...   \n",
       "5     200  1538352678000  \"Mozilla/5.0 (Windows NT 6.1; WOW64) AppleWebK...   \n",
       "6     200  1538352886000  \"Mozilla/5.0 (Windows NT 6.1; WOW64) AppleWebK...   \n",
       "7     200  1538352899000  Mozilla/5.0 (Windows NT 6.1; WOW64; rv:31.0) G...   \n",
       "8     200  1538352905000  Mozilla/5.0 (Windows NT 6.1; WOW64; rv:31.0) G...   \n",
       "9     200  1538353084000  Mozilla/5.0 (Windows NT 6.1; WOW64; rv:31.0) G...   \n",
       "\n",
       "  userId  \n",
       "0     30  \n",
       "1      9  \n",
       "2     30  \n",
       "3      9  \n",
       "4     30  \n",
       "5      9  \n",
       "6      9  \n",
       "7     30  \n",
       "8     30  \n",
       "9     30  "
      ]
     },
     "execution_count": 7,
     "metadata": {},
     "output_type": "execute_result"
    }
   ],
   "source": [
    "df_pandas = df.toPandas()\n",
    "df_pandas.head(10)"
   ]
  },
  {
   "cell_type": "code",
   "execution_count": 8,
   "metadata": {},
   "outputs": [
    {
     "name": "stdout",
     "output_type": "stream",
     "text": [
      "there is null values in column (artist)\n",
      "there is null values in column (firstName)\n",
      "there is null values in column (gender)\n",
      "there is null values in column (lastName)\n",
      "there is null values in column (length)\n",
      "there is null values in column (location)\n",
      "there is null values in column (registration)\n",
      "there is null values in column (song)\n",
      "there is null values in column (userAgent)\n",
      "\n",
      "\n",
      "all the columns are: \n",
      "['artist', 'auth', 'firstName', 'gender', 'itemInSession', 'lastName', 'length', 'level', 'location', 'method', 'page', 'registration', 'sessionId', 'song', 'status', 'ts', 'userAgent', 'userId']\n"
     ]
    }
   ],
   "source": [
    "# loop to print the null values\n",
    "columns = []\n",
    "\n",
    "for i in range(len(df.dtypes)):\n",
    "    if df.dtypes[i][1] == 'string' or df.dtypes[i][1] != 'string':\n",
    "        columns.append(df.dtypes[i][0])\n",
    "        \n",
    "    if str(df_pandas[df.dtypes[i][0]].isnull().values.any()) == \"True\":\n",
    "        print(\"there is null values in column (\" + df.dtypes[i][0] + \")\")\n",
    "\n",
    "        \n",
    "    \n",
    "print('\\n')\n",
    "print('all the columns are: ')\n",
    "print(columns)"
   ]
  },
  {
   "cell_type": "markdown",
   "metadata": {},
   "source": [
    "Looks like some columns have a null values. but let's take a closer look at some columns.."
   ]
  },
  {
   "cell_type": "code",
   "execution_count": 9,
   "metadata": {},
   "outputs": [
    {
     "name": "stdout",
     "output_type": "stream",
     "text": [
      "+------+\n",
      "|gender|\n",
      "+------+\n",
      "|  null|\n",
      "|     F|\n",
      "|     M|\n",
      "+------+\n",
      "\n"
     ]
    }
   ],
   "source": [
    "# dorp duplicates and show the gender values\n",
    "df.select(\"gender\").dropDuplicates().sort(\"gender\").show()"
   ]
  },
  {
   "cell_type": "code",
   "execution_count": 10,
   "metadata": {},
   "outputs": [
    {
     "name": "stdout",
     "output_type": "stream",
     "text": [
      "+----------+\n",
      "|      auth|\n",
      "+----------+\n",
      "| Cancelled|\n",
      "|     Guest|\n",
      "| Logged In|\n",
      "|Logged Out|\n",
      "+----------+\n",
      "\n"
     ]
    }
   ],
   "source": [
    "# dorp duplicates and show the auth values\n",
    "df.select(\"auth\").dropDuplicates().sort(\"auth\").show()"
   ]
  },
  {
   "cell_type": "code",
   "execution_count": 11,
   "metadata": {},
   "outputs": [
    {
     "name": "stdout",
     "output_type": "stream",
     "text": [
      "+--------------------+\n",
      "|           userAgent|\n",
      "+--------------------+\n",
      "|                null|\n",
      "|\"Mozilla/5.0 (Mac...|\n",
      "|\"Mozilla/5.0 (Mac...|\n",
      "|\"Mozilla/5.0 (Mac...|\n",
      "|\"Mozilla/5.0 (Mac...|\n",
      "|\"Mozilla/5.0 (Mac...|\n",
      "|\"Mozilla/5.0 (Mac...|\n",
      "|\"Mozilla/5.0 (Mac...|\n",
      "|\"Mozilla/5.0 (Mac...|\n",
      "|\"Mozilla/5.0 (Mac...|\n",
      "|\"Mozilla/5.0 (Mac...|\n",
      "|\"Mozilla/5.0 (Mac...|\n",
      "|\"Mozilla/5.0 (Mac...|\n",
      "|\"Mozilla/5.0 (Mac...|\n",
      "|\"Mozilla/5.0 (Mac...|\n",
      "|\"Mozilla/5.0 (Mac...|\n",
      "|\"Mozilla/5.0 (Mac...|\n",
      "|\"Mozilla/5.0 (Mac...|\n",
      "|\"Mozilla/5.0 (Win...|\n",
      "|\"Mozilla/5.0 (Win...|\n",
      "+--------------------+\n",
      "only showing top 20 rows\n",
      "\n"
     ]
    }
   ],
   "source": [
    "# dorp duplicates and show the user agent values\n",
    "df.select(\"userAgent\").dropDuplicates().sort(\"userAgent\").show()"
   ]
  },
  {
   "cell_type": "code",
   "execution_count": 12,
   "metadata": {},
   "outputs": [
    {
     "name": "stdout",
     "output_type": "stream",
     "text": [
      "+-------------+\n",
      "| registration|\n",
      "+-------------+\n",
      "|         null|\n",
      "|1521380675000|\n",
      "|1526739206000|\n",
      "|1526838391000|\n",
      "|1528403713000|\n",
      "|1528560242000|\n",
      "|1528772084000|\n",
      "|1528780738000|\n",
      "|1529027541000|\n",
      "|1529252604000|\n",
      "|1529643103000|\n",
      "|1529934689000|\n",
      "|1530306321000|\n",
      "|1530333492000|\n",
      "|1530514394000|\n",
      "|1530674962000|\n",
      "|1530763799000|\n",
      "|1530789251000|\n",
      "|1531281160000|\n",
      "|1531350022000|\n",
      "+-------------+\n",
      "only showing top 20 rows\n",
      "\n"
     ]
    }
   ],
   "source": [
    "# dorp duplicates and show the user registration values\n",
    "df.select(\"registration\").dropDuplicates().sort(\"registration\").show()"
   ]
  },
  {
   "cell_type": "code",
   "execution_count": 13,
   "metadata": {},
   "outputs": [
    {
     "name": "stdout",
     "output_type": "stream",
     "text": [
      "+------+\n",
      "|userId|\n",
      "+------+\n",
      "|      |\n",
      "|    10|\n",
      "|   100|\n",
      "|100001|\n",
      "|100002|\n",
      "|100003|\n",
      "|100004|\n",
      "|100005|\n",
      "|100006|\n",
      "|100007|\n",
      "|100008|\n",
      "|100009|\n",
      "|100010|\n",
      "|100011|\n",
      "|100012|\n",
      "|100013|\n",
      "|100014|\n",
      "|100015|\n",
      "|100016|\n",
      "|100017|\n",
      "+------+\n",
      "only showing top 20 rows\n",
      "\n"
     ]
    }
   ],
   "source": [
    "# dorp duplicates and show the user userId values\n",
    "df.select(\"userId\").dropDuplicates().sort(\"userId\").show()"
   ]
  },
  {
   "cell_type": "code",
   "execution_count": 14,
   "metadata": {},
   "outputs": [
    {
     "name": "stdout",
     "output_type": "stream",
     "text": [
      "+--------------------+\n",
      "|                page|\n",
      "+--------------------+\n",
      "|               About|\n",
      "|          Add Friend|\n",
      "|     Add to Playlist|\n",
      "|              Cancel|\n",
      "|Cancellation Conf...|\n",
      "|           Downgrade|\n",
      "|               Error|\n",
      "|                Help|\n",
      "|                Home|\n",
      "|               Login|\n",
      "|              Logout|\n",
      "|            NextSong|\n",
      "|            Register|\n",
      "|         Roll Advert|\n",
      "|       Save Settings|\n",
      "|            Settings|\n",
      "|    Submit Downgrade|\n",
      "| Submit Registration|\n",
      "|      Submit Upgrade|\n",
      "|         Thumbs Down|\n",
      "+--------------------+\n",
      "only showing top 20 rows\n",
      "\n"
     ]
    }
   ],
   "source": [
    "df.select(\"page\").dropDuplicates().sort(\"page\").show()"
   ]
  },
  {
   "cell_type": "markdown",
   "metadata": {},
   "source": [
    "##### Comments: "
   ]
  },
  {
   "cell_type": "markdown",
   "metadata": {},
   "source": [
    "- gender has a null values.\n",
    "- userAgent seems to be unusefull, so might drop it later. \n",
    "- empty string in userId collumn.\n",
    "- we chould pages Define Churn."
   ]
  },
  {
   "cell_type": "markdown",
   "metadata": {},
   "source": [
    "## Cleaning the data"
   ]
  },
  {
   "cell_type": "markdown",
   "metadata": {},
   "source": [
    "#### Let's deal with the missing and empty values"
   ]
  },
  {
   "cell_type": "code",
   "execution_count": 15,
   "metadata": {},
   "outputs": [
    {
     "data": {
      "text/plain": [
       "286500"
      ]
     },
     "execution_count": 15,
     "metadata": {},
     "output_type": "execute_result"
    }
   ],
   "source": [
    "df_before = df.count()\n",
    "df_before"
   ]
  },
  {
   "cell_type": "code",
   "execution_count": 16,
   "metadata": {},
   "outputs": [],
   "source": [
    "# remove the empty strings in userId\n",
    "df = df.filter(df[\"userId\"] != \"\")\n"
   ]
  },
  {
   "cell_type": "code",
   "execution_count": 17,
   "metadata": {},
   "outputs": [
    {
     "data": {
      "text/plain": [
       "278154"
      ]
     },
     "execution_count": 17,
     "metadata": {},
     "output_type": "execute_result"
    }
   ],
   "source": [
    "df.count()"
   ]
  },
  {
   "cell_type": "code",
   "execution_count": 18,
   "metadata": {
    "scrolled": true
   },
   "outputs": [
    {
     "name": "stdout",
     "output_type": "stream",
     "text": [
      "rows dropped = 8346\n"
     ]
    }
   ],
   "source": [
    "print(\"rows dropped = \" + str(df_before - df.count()))"
   ]
  },
  {
   "cell_type": "markdown",
   "metadata": {},
   "source": [
    "# Exploratory Data Analysis\n",
    "When you're working with the full dataset, perform EDA by loading a small subset of the data and doing basic manipulations within Spark. In this workspace, you are already provided a small subset of data you can explore.\n",
    "\n",
    "### Define Churn\n",
    "\n",
    "Once you've done some preliminary analysis, create a column `Churn` to use as the label for your model. I suggest using the `Cancellation Confirmation` events to define your churn, which happen for both paid and free users. As a bonus task, you can also look into the `Downgrade` events.\n",
    "\n",
    "### Explore Data\n",
    "Once you've defined churn, perform some exploratory data analysis to observe the behavior for users who stayed vs users who churned. You can start by exploring aggregates on these two groups of users, observing how much of a specific action they experienced per a certain time unit or number of songs played."
   ]
  },
  {
   "cell_type": "markdown",
   "metadata": {},
   "source": [
    "### Define Churn"
   ]
  },
  {
   "cell_type": "code",
   "execution_count": 19,
   "metadata": {},
   "outputs": [
    {
     "name": "stdout",
     "output_type": "stream",
     "text": [
      "+--------------------+\n",
      "|                page|\n",
      "+--------------------+\n",
      "|               About|\n",
      "|          Add Friend|\n",
      "|     Add to Playlist|\n",
      "|              Cancel|\n",
      "|Cancellation Conf...|\n",
      "|           Downgrade|\n",
      "|               Error|\n",
      "|                Help|\n",
      "|                Home|\n",
      "|              Logout|\n",
      "|            NextSong|\n",
      "|         Roll Advert|\n",
      "|       Save Settings|\n",
      "|            Settings|\n",
      "|    Submit Downgrade|\n",
      "|      Submit Upgrade|\n",
      "|         Thumbs Down|\n",
      "|           Thumbs Up|\n",
      "|             Upgrade|\n",
      "+--------------------+\n",
      "\n"
     ]
    }
   ],
   "source": [
    "# check Cancellation Confirmation\n",
    "df.select(\"page\").dropDuplicates().sort(\"page\").show()"
   ]
  },
  {
   "cell_type": "code",
   "execution_count": 20,
   "metadata": {},
   "outputs": [
    {
     "name": "stdout",
     "output_type": "stream",
     "text": [
      "count of users who churned : 52\n"
     ]
    }
   ],
   "source": [
    "print(\"count of users who churned : \" + str(df.select([\"userId\", \"page\"]).where(df[\"page\"] == \"Cancellation Confirmation\").count()))"
   ]
  },
  {
   "cell_type": "markdown",
   "metadata": {},
   "source": [
    "52 users have confirm cancilation. let's create column churn and give pepole who confirmed cancelation 1 and if not 0."
   ]
  },
  {
   "cell_type": "code",
   "execution_count": 21,
   "metadata": {},
   "outputs": [
    {
     "name": "stdout",
     "output_type": "stream",
     "text": [
      "+------+--------------------+\n",
      "|userId|                page|\n",
      "+------+--------------------+\n",
      "|    18|Cancellation Conf...|\n",
      "|    32|Cancellation Conf...|\n",
      "|   125|Cancellation Conf...|\n",
      "|   105|Cancellation Conf...|\n",
      "|    17|Cancellation Conf...|\n",
      "|   143|Cancellation Conf...|\n",
      "|   101|Cancellation Conf...|\n",
      "|   129|Cancellation Conf...|\n",
      "|   121|Cancellation Conf...|\n",
      "|    51|Cancellation Conf...|\n",
      "|    87|Cancellation Conf...|\n",
      "|   122|Cancellation Conf...|\n",
      "|    12|Cancellation Conf...|\n",
      "|    58|Cancellation Conf...|\n",
      "|    73|Cancellation Conf...|\n",
      "|     3|Cancellation Conf...|\n",
      "|   106|Cancellation Conf...|\n",
      "|   103|Cancellation Conf...|\n",
      "|    28|Cancellation Conf...|\n",
      "|    54|Cancellation Conf...|\n",
      "|    29|Cancellation Conf...|\n",
      "|    70|Cancellation Conf...|\n",
      "|    53|Cancellation Conf...|\n",
      "|100011|Cancellation Conf...|\n",
      "|100001|Cancellation Conf...|\n",
      "|100024|Cancellation Conf...|\n",
      "|100006|Cancellation Conf...|\n",
      "|100019|Cancellation Conf...|\n",
      "|100003|Cancellation Conf...|\n",
      "|100023|Cancellation Conf...|\n",
      "|100005|Cancellation Conf...|\n",
      "|100017|Cancellation Conf...|\n",
      "|100025|Cancellation Conf...|\n",
      "|100009|Cancellation Conf...|\n",
      "|100012|Cancellation Conf...|\n",
      "|100013|Cancellation Conf...|\n",
      "|100022|Cancellation Conf...|\n",
      "|100014|Cancellation Conf...|\n",
      "|100015|Cancellation Conf...|\n",
      "|100021|Cancellation Conf...|\n",
      "|100007|Cancellation Conf...|\n",
      "|200001|Cancellation Conf...|\n",
      "|200024|Cancellation Conf...|\n",
      "|200011|Cancellation Conf...|\n",
      "|200021|Cancellation Conf...|\n",
      "|200018|Cancellation Conf...|\n",
      "|200015|Cancellation Conf...|\n",
      "|200017|Cancellation Conf...|\n",
      "|200016|Cancellation Conf...|\n",
      "|200020|Cancellation Conf...|\n",
      "|300007|Cancellation Conf...|\n",
      "|300001|Cancellation Conf...|\n",
      "+------+--------------------+\n",
      "\n"
     ]
    }
   ],
   "source": [
    "# show users id who confirm calcelation \n",
    "user_count = df.select([\"userId\", \"page\"]).where(df[\"page\"] == \"Cancellation Confirmation\").count()\n",
    "\n",
    "df.select([\"userId\", \"page\"]).where(df.page == \"Cancellation Confirmation\").show(user_count)"
   ]
  },
  {
   "cell_type": "code",
   "execution_count": 22,
   "metadata": {},
   "outputs": [],
   "source": [
    "# create churn event and coulumn\n",
    "churn_event = udf(lambda x: 1 if x == 'Cancellation Confirmation' else 0, IntegerType())\n",
    "df = df.withColumn('churn', churn_event('page'))"
   ]
  },
  {
   "cell_type": "code",
   "execution_count": 23,
   "metadata": {},
   "outputs": [
    {
     "name": "stdout",
     "output_type": "stream",
     "text": [
      "+-----+-----+\n",
      "|churn|count|\n",
      "+-----+-----+\n",
      "|    1|   52|\n",
      "|    0|  173|\n",
      "+-----+-----+\n",
      "\n"
     ]
    }
   ],
   "source": [
    "# label user who churned\n",
    "windowval = Window.partitionBy('userId')\n",
    "df = df.withColumn('churn', max('churn').over(windowval))\n",
    "df.select(['userId', 'churn']).dropDuplicates().groupBy('churn').count().show()"
   ]
  },
  {
   "cell_type": "code",
   "execution_count": 24,
   "metadata": {},
   "outputs": [
    {
     "name": "stdout",
     "output_type": "stream",
     "text": [
      "+--------------------+-----+\n",
      "|                page|churn|\n",
      "+--------------------+-----+\n",
      "|Cancellation Conf...|    1|\n",
      "|Cancellation Conf...|    1|\n",
      "|Cancellation Conf...|    1|\n",
      "|Cancellation Conf...|    1|\n",
      "|Cancellation Conf...|    1|\n",
      "+--------------------+-----+\n",
      "only showing top 5 rows\n",
      "\n"
     ]
    }
   ],
   "source": [
    "# Check churn values assaigned correctly\n",
    "df.select([\"page\",\"churn\"]).where(df.page == \"Cancellation Confirmation\").show(5)"
   ]
  },
  {
   "cell_type": "code",
   "execution_count": 25,
   "metadata": {},
   "outputs": [
    {
     "name": "stdout",
     "output_type": "stream",
     "text": [
      "+---------+-----+\n",
      "|     page|churn|\n",
      "+---------+-----+\n",
      "| NextSong|    0|\n",
      "| NextSong|    0|\n",
      "| NextSong|    0|\n",
      "|Thumbs Up|    0|\n",
      "| NextSong|    0|\n",
      "+---------+-----+\n",
      "only showing top 5 rows\n",
      "\n"
     ]
    }
   ],
   "source": [
    "# Check churn values assaigned correctly\n",
    "df.select([\"page\",\"churn\"]).where(df.page != \"Cancellation Confirmation\").show(5)"
   ]
  },
  {
   "cell_type": "code",
   "execution_count": 26,
   "metadata": {},
   "outputs": [
    {
     "data": {
      "text/html": [
       "<div>\n",
       "<style scoped>\n",
       "    .dataframe tbody tr th:only-of-type {\n",
       "        vertical-align: middle;\n",
       "    }\n",
       "\n",
       "    .dataframe tbody tr th {\n",
       "        vertical-align: top;\n",
       "    }\n",
       "\n",
       "    .dataframe thead th {\n",
       "        text-align: right;\n",
       "    }\n",
       "</style>\n",
       "<table border=\"1\" class=\"dataframe\">\n",
       "  <thead>\n",
       "    <tr style=\"text-align: right;\">\n",
       "      <th></th>\n",
       "      <th>artist</th>\n",
       "      <th>auth</th>\n",
       "      <th>firstName</th>\n",
       "      <th>gender</th>\n",
       "      <th>itemInSession</th>\n",
       "      <th>lastName</th>\n",
       "      <th>length</th>\n",
       "      <th>level</th>\n",
       "      <th>location</th>\n",
       "      <th>method</th>\n",
       "      <th>page</th>\n",
       "      <th>registration</th>\n",
       "      <th>sessionId</th>\n",
       "      <th>song</th>\n",
       "      <th>status</th>\n",
       "      <th>ts</th>\n",
       "      <th>userAgent</th>\n",
       "      <th>userId</th>\n",
       "      <th>churn</th>\n",
       "    </tr>\n",
       "  </thead>\n",
       "  <tbody>\n",
       "    <tr>\n",
       "      <th>0</th>\n",
       "      <td>Sleeping With Sirens</td>\n",
       "      <td>Logged In</td>\n",
       "      <td>Darianna</td>\n",
       "      <td>F</td>\n",
       "      <td>0</td>\n",
       "      <td>Carpenter</td>\n",
       "      <td>202.97098</td>\n",
       "      <td>free</td>\n",
       "      <td>Bridgeport-Stamford-Norwalk, CT</td>\n",
       "      <td>PUT</td>\n",
       "      <td>NextSong</td>\n",
       "      <td>1538016340000</td>\n",
       "      <td>31</td>\n",
       "      <td>Captain Tyin Knots VS Mr Walkway (No Way)</td>\n",
       "      <td>200</td>\n",
       "      <td>1539003534000</td>\n",
       "      <td>\"Mozilla/5.0 (iPhone; CPU iPhone OS 7_1_2 like...</td>\n",
       "      <td>100010</td>\n",
       "      <td>0</td>\n",
       "    </tr>\n",
       "    <tr>\n",
       "      <th>1</th>\n",
       "      <td>Francesca Battistelli</td>\n",
       "      <td>Logged In</td>\n",
       "      <td>Darianna</td>\n",
       "      <td>F</td>\n",
       "      <td>1</td>\n",
       "      <td>Carpenter</td>\n",
       "      <td>196.54485</td>\n",
       "      <td>free</td>\n",
       "      <td>Bridgeport-Stamford-Norwalk, CT</td>\n",
       "      <td>PUT</td>\n",
       "      <td>NextSong</td>\n",
       "      <td>1538016340000</td>\n",
       "      <td>31</td>\n",
       "      <td>Beautiful_ Beautiful (Album)</td>\n",
       "      <td>200</td>\n",
       "      <td>1539003736000</td>\n",
       "      <td>\"Mozilla/5.0 (iPhone; CPU iPhone OS 7_1_2 like...</td>\n",
       "      <td>100010</td>\n",
       "      <td>0</td>\n",
       "    </tr>\n",
       "    <tr>\n",
       "      <th>2</th>\n",
       "      <td>Brutha</td>\n",
       "      <td>Logged In</td>\n",
       "      <td>Darianna</td>\n",
       "      <td>F</td>\n",
       "      <td>2</td>\n",
       "      <td>Carpenter</td>\n",
       "      <td>263.13098</td>\n",
       "      <td>free</td>\n",
       "      <td>Bridgeport-Stamford-Norwalk, CT</td>\n",
       "      <td>PUT</td>\n",
       "      <td>NextSong</td>\n",
       "      <td>1538016340000</td>\n",
       "      <td>31</td>\n",
       "      <td>She's Gone</td>\n",
       "      <td>200</td>\n",
       "      <td>1539003932000</td>\n",
       "      <td>\"Mozilla/5.0 (iPhone; CPU iPhone OS 7_1_2 like...</td>\n",
       "      <td>100010</td>\n",
       "      <td>0</td>\n",
       "    </tr>\n",
       "  </tbody>\n",
       "</table>\n",
       "</div>"
      ],
      "text/plain": [
       "                  artist       auth firstName gender  itemInSession  \\\n",
       "0   Sleeping With Sirens  Logged In  Darianna      F              0   \n",
       "1  Francesca Battistelli  Logged In  Darianna      F              1   \n",
       "2                 Brutha  Logged In  Darianna      F              2   \n",
       "\n",
       "    lastName     length level                         location method  \\\n",
       "0  Carpenter  202.97098  free  Bridgeport-Stamford-Norwalk, CT    PUT   \n",
       "1  Carpenter  196.54485  free  Bridgeport-Stamford-Norwalk, CT    PUT   \n",
       "2  Carpenter  263.13098  free  Bridgeport-Stamford-Norwalk, CT    PUT   \n",
       "\n",
       "       page   registration  sessionId  \\\n",
       "0  NextSong  1538016340000         31   \n",
       "1  NextSong  1538016340000         31   \n",
       "2  NextSong  1538016340000         31   \n",
       "\n",
       "                                        song  status             ts  \\\n",
       "0  Captain Tyin Knots VS Mr Walkway (No Way)     200  1539003534000   \n",
       "1               Beautiful_ Beautiful (Album)     200  1539003736000   \n",
       "2                                 She's Gone     200  1539003932000   \n",
       "\n",
       "                                           userAgent  userId  churn  \n",
       "0  \"Mozilla/5.0 (iPhone; CPU iPhone OS 7_1_2 like...  100010      0  \n",
       "1  \"Mozilla/5.0 (iPhone; CPU iPhone OS 7_1_2 like...  100010      0  \n",
       "2  \"Mozilla/5.0 (iPhone; CPU iPhone OS 7_1_2 like...  100010      0  "
      ]
     },
     "execution_count": 26,
     "metadata": {},
     "output_type": "execute_result"
    }
   ],
   "source": [
    "df_pandas = df.toPandas()\n",
    "df_pandas.head(3)"
   ]
  },
  {
   "cell_type": "markdown",
   "metadata": {},
   "source": [
    "Great, we added the chrun column and assign the values needed to the column correctlly."
   ]
  },
  {
   "cell_type": "markdown",
   "metadata": {},
   "source": [
    "### Explore Data\n"
   ]
  },
  {
   "cell_type": "code",
   "execution_count": 27,
   "metadata": {},
   "outputs": [
    {
     "name": "stdout",
     "output_type": "stream",
     "text": [
      "+-----+------+-----+\n",
      "|churn|gender|count|\n",
      "+-----+------+-----+\n",
      "|    1|     F|   20|\n",
      "|    0|     M|   89|\n",
      "|    1|     M|   32|\n",
      "|    0|     F|   84|\n",
      "+-----+------+-----+\n",
      "\n"
     ]
    }
   ],
   "source": [
    "# user status by gender\n",
    "df.dropDuplicates(['userId', 'gender']).groupby(['churn', 'gender']).count().show()"
   ]
  },
  {
   "cell_type": "code",
   "execution_count": 28,
   "metadata": {},
   "outputs": [
    {
     "name": "stdout",
     "output_type": "stream",
     "text": [
      "+-----+-----+-----+\n",
      "|churn|level|count|\n",
      "+-----+-----+-----+\n",
      "|    0| free|  149|\n",
      "|    0| paid|  129|\n",
      "|    1| paid|   36|\n",
      "|    1| free|   46|\n",
      "+-----+-----+-----+\n",
      "\n"
     ]
    }
   ],
   "source": [
    "# user status by paid lever\n",
    "df.dropDuplicates(['userId', 'level']).groupby(['churn', 'level']).count().show()"
   ]
  },
  {
   "cell_type": "code",
   "execution_count": 29,
   "metadata": {},
   "outputs": [
    {
     "data": {
      "image/png": "[encoded data removed]",
      "text/plain": [
       "<matplotlib.figure.Figure at 0x7f1916653ef0>"
      ]
     },
     "metadata": {
      "needs_background": "light"
     },
     "output_type": "display_data"
    }
   ],
   "source": [
    "# Comparison between the behavior of Males and Females\n",
    "barplot_gender_churn = df.dropDuplicates([\"userId\", \"gender\"]).groupby([\"churn\", \"gender\"]).count().sort(\"churn\").toPandas()\n",
    "\n",
    "plt.figure(figsize = [8,6])\n",
    "ax = sns.barplot(x='churn', y='count', hue='gender', data=barplot_gender_churn)\n",
    "\n",
    "plt.xlabel('0 = Not Churned .. 1 = Churned')\n",
    "plt.ylabel('Count')\n",
    "plt.legend(title='Gender', loc='best')\n",
    "plt.title('Comparison between the behavior of Males and Females')\n",
    "\n",
    "sns.despine(ax=ax);"
   ]
  },
  {
   "cell_type": "markdown",
   "metadata": {},
   "source": [
    "as we can see, more male churned than females."
   ]
  },
  {
   "cell_type": "code",
   "execution_count": 30,
   "metadata": {},
   "outputs": [
    {
     "data": {
      "text/plain": [
       "<matplotlib.legend.Legend at 0x7f18f9a1deb8>"
      ]
     },
     "execution_count": 30,
     "metadata": {},
     "output_type": "execute_result"
    },
    {
     "data": {
      "image/png": "[encoded data removed]",
      "text/plain": [
       "<matplotlib.figure.Figure at 0x7f18f9e42b00>"
      ]
     },
     "metadata": {
      "needs_background": "light"
     },
     "output_type": "display_data"
    }
   ],
   "source": [
    "level_barplot = df.select(['userId', 'churn', 'level']).dropDuplicates().groupBy('level','churn').count().toPandas()\n",
    "\n",
    "plt.figure(figsize = [8,6])\n",
    "ax = sns.barplot(data = level_barplot, x = 'churn', y='count', hue = 'level')\n",
    "plt.ylabel('Count')\n",
    "plt.xlabel('0 = Not Churned .. 1 = Churned')\n",
    "plt.title('Who Churned the most by the Level')\n",
    "\n",
    "ax.legend(title = 'Level', loc='best')"
   ]
  },
  {
   "cell_type": "code",
   "execution_count": 31,
   "metadata": {},
   "outputs": [
    {
     "data": {
      "text/plain": [
       "<matplotlib.legend.Legend at 0x7f19288f0710>"
      ]
     },
     "execution_count": 31,
     "metadata": {},
     "output_type": "execute_result"
    },
    {
     "data": {
      "image/png": "[encoded data removed]",
      "text/plain": [
       "<matplotlib.figure.Figure at 0x7f190d9df390>"
      ]
     },
     "metadata": {
      "needs_background": "light"
     },
     "output_type": "display_data"
    }
   ],
   "source": [
    "# Getting the data needed, next song dropped because it's affecting the data visualization \n",
    "users_1 = df_pandas[df_pandas.churn == 1].groupby(['page'])['userId'].count().drop('NextSong')\n",
    "users_0 = df_pandas[df_pandas.churn == 0].groupby(['page'])['userId'].count().drop('NextSong')\n",
    "\n",
    "# Calculating the percentage\n",
    "users_1 = users_1 /users_1.sum()*100\n",
    "users_0 = users_0 /users_0.sum()*100\n",
    "\n",
    "# Creating a dataframe containing both cancelled and active users\n",
    "plot_df = pd.DataFrame({'Cancelled': users_1,'Active users':users_0})\n",
    "\n",
    "# Creating the barplot\n",
    "ax = plot_df.plot(kind='bar', figsize=(16,10));\n",
    "ax.set_xlabel('Percentage of user actions')\n",
    "ax.set_title('Percentage of user actions for active and cancelled users')\n",
    "ax.legend(loc='best')"
   ]
  },
  {
   "cell_type": "markdown",
   "metadata": {},
   "source": [
    "as we can see, a good sign for not cancelling when a user gives a thumps up, add to playlist and add friend. A bad sign for cancelling when a user gives a thumps down, rolling advert."
   ]
  },
  {
   "cell_type": "markdown",
   "metadata": {},
   "source": [
    "# Feature Engineering\n",
    "Once you've familiarized yourself with the data, build out the features you find promising to train your model on. To work with the full dataset, you can follow the following steps.\n",
    "- Write a script to extract the necessary features from the smaller subset of data\n",
    "- Ensure that your script is scalable, using the best practices discussed in Lesson 3\n",
    "- Try your script on the full data set, debugging your script if necessary\n",
    "\n",
    "Now, for first two features .. we will convert two categories (level and gender) into numbers to fit our model."
   ]
  },
  {
   "cell_type": "markdown",
   "metadata": {},
   "source": [
    "in gender column, we will change the values to 0s and 1s, we will assign 0 to male and 1 to female. "
   ]
  },
  {
   "cell_type": "code",
   "execution_count": 32,
   "metadata": {},
   "outputs": [],
   "source": [
    "# only take userId, gender and drop duplicates\n",
    "gender_changed_m0_f1 = df.select(['userId', 'gender']).dropDuplicates()\n",
    "# update the value of gender column\n",
    "gender_changed_m0_f1 = gender_changed_m0_f1.withColumn('gender', when(col('gender') == 'M', 0).otherwise(1))"
   ]
  },
  {
   "cell_type": "code",
   "execution_count": 33,
   "metadata": {},
   "outputs": [
    {
     "name": "stdout",
     "output_type": "stream",
     "text": [
      "+-------+------------------+-------------------+\n",
      "|summary|            userId|             gender|\n",
      "+-------+------------------+-------------------+\n",
      "|  count|               225|                225|\n",
      "|   mean|65391.013333333336| 0.4622222222222222|\n",
      "| stddev|105396.47791907165|0.49968243883744773|\n",
      "|    min|                10|                  0|\n",
      "|    max|                99|                  1|\n",
      "+-------+------------------+-------------------+\n",
      "\n"
     ]
    }
   ],
   "source": [
    "gender_changed_m0_f1.describe().show()"
   ]
  },
  {
   "cell_type": "markdown",
   "metadata": {},
   "source": [
    "Nice, now every Female 'F' changed to 1 and every Male 'M' changed to 0 .. and the count is 225"
   ]
  },
  {
   "cell_type": "markdown",
   "metadata": {},
   "source": [
    "Second, let's deal with level, paid users will be assigned in rank column as 1 and free as 0"
   ]
  },
  {
   "cell_type": "code",
   "execution_count": 34,
   "metadata": {},
   "outputs": [],
   "source": [
    "# only take userId, level, ts and drop duplicates \n",
    "# To perform an operation on a group we need to partition the data\n",
    "df_level = df.select(['userId', 'level', 'ts']).dropDuplicates().sort('userId')\n",
    "w = Window.partitionBy(\"userId\").orderBy(desc(\"ts\"))"
   ]
  },
  {
   "cell_type": "code",
   "execution_count": 35,
   "metadata": {
    "scrolled": true
   },
   "outputs": [],
   "source": [
    "# the rank of rows within a window partition, with gaps.\n",
    "df_level = df_level.withColumn(\"rank\", dense_rank().over(w))"
   ]
  },
  {
   "cell_type": "code",
   "execution_count": 36,
   "metadata": {
    "scrolled": true
   },
   "outputs": [
    {
     "name": "stdout",
     "output_type": "stream",
     "text": [
      "+------+-----+-------------+----+\n",
      "|userId|level|           ts|rank|\n",
      "+------+-----+-------------+----+\n",
      "|    10| paid|1542631788000|   1|\n",
      "|    10| paid|1542631753000|   2|\n",
      "|    10| paid|1542631690000|   3|\n",
      "|    10| paid|1542631518000|   4|\n",
      "|    10| paid|1542631517000|   5|\n",
      "|    10| paid|1542631090000|   6|\n",
      "|    10| paid|1542630866000|   7|\n",
      "|    10| paid|1542630637000|   8|\n",
      "|    10| paid|1542630407000|   9|\n",
      "|    10| paid|1542630394000|  10|\n",
      "+------+-----+-------------+----+\n",
      "only showing top 10 rows\n",
      "\n"
     ]
    }
   ],
   "source": [
    "df_level.show(10)"
   ]
  },
  {
   "cell_type": "code",
   "execution_count": 37,
   "metadata": {},
   "outputs": [],
   "source": [
    "# Filters rows using the given condition\n",
    "df_level2 = df_level.filter(df_level.rank == 1).drop(df_level.rank)\n",
    "# Dropping ts becouse there is no need for it\n",
    "df_level2 = df_level2.drop('ts')\n",
    "# update the value of level column\n",
    "df_level2 = df_level2.withColumn('level', when(col('level') == 'free', 0).otherwise(1))"
   ]
  },
  {
   "cell_type": "code",
   "execution_count": 38,
   "metadata": {},
   "outputs": [
    {
     "name": "stdout",
     "output_type": "stream",
     "text": [
      "+-------+------------------+------------------+\n",
      "|summary|            userId|             level|\n",
      "+-------+------------------+------------------+\n",
      "|  count|               225|               225|\n",
      "|   mean|65391.013333333336|0.6444444444444445|\n",
      "| stddev|105396.47791907162| 0.479748611419283|\n",
      "|    min|                10|                 0|\n",
      "|    max|                99|                 1|\n",
      "+-------+------------------+------------------+\n",
      "\n"
     ]
    }
   ],
   "source": [
    "df_level2.describe().show()"
   ]
  },
  {
   "cell_type": "markdown",
   "metadata": {},
   "source": [
    "Nice, now every level = free changed to 0 and every level = paid changed to 1 .. and the count is 225 same as gender."
   ]
  },
  {
   "cell_type": "markdown",
   "metadata": {},
   "source": [
    "#### The numeric features we are going to explore are :\n",
    "- number of thumbs down.\n",
    "- number of thumbs up.\n",
    "- number of different artists listened to."
   ]
  },
  {
   "cell_type": "markdown",
   "metadata": {},
   "source": [
    "#### Number of Thumbs down."
   ]
  },
  {
   "cell_type": "code",
   "execution_count": 39,
   "metadata": {},
   "outputs": [],
   "source": [
    "# only take userId and page\n",
    "thumbdown_feature = df.select([\"userId\", \"page\"])\n",
    "thumbdown_feature = thumbdown_feature.withColumn(\"Thumbs Down\", udf(lambda x: 1 if x == \"Thumbs Down\" else 0, IntegerType())(\"page\"))\n",
    "# summing the number of thumbe downs for each user and assign it to column thumbs_down\n",
    "thumbdown_feature = thumbdown_feature.groupby('userId').sum(\"Thumbs Down\")\n",
    "thumbdown_feature = thumbdown_feature.withColumnRenamed(\"sum(Thumbs Down)\", \"thumbs_down\")"
   ]
  },
  {
   "cell_type": "code",
   "execution_count": 40,
   "metadata": {},
   "outputs": [
    {
     "name": "stdout",
     "output_type": "stream",
     "text": [
      "+-------+------------------+------------------+\n",
      "|summary|            userId|       thumbs_down|\n",
      "+-------+------------------+------------------+\n",
      "|  count|               225|               225|\n",
      "|   mean|65391.013333333336|11.315555555555555|\n",
      "| stddev|105396.47791907164|13.077481251105503|\n",
      "|    min|                10|                 0|\n",
      "|    max|                99|                75|\n",
      "+-------+------------------+------------------+\n",
      "\n"
     ]
    }
   ],
   "source": [
    "thumbdown_feature.describe().show(10)"
   ]
  },
  {
   "cell_type": "markdown",
   "metadata": {},
   "source": [
    "#### Number of Thumbs up."
   ]
  },
  {
   "cell_type": "code",
   "execution_count": 41,
   "metadata": {},
   "outputs": [],
   "source": [
    "# only take userId and page\n",
    "thumbup_feature = df.select([\"userId\", \"page\"])\n",
    "thumbup_feature = thumbup_feature.withColumn(\"Thumbs Up\", udf(lambda x: 1 if x == \"Thumbs Up\" else 0, IntegerType())(\"page\"))\n",
    "# summing the number of thumbe ups for each user and assign it to column thumbs_down\n",
    "thumbup_feature = thumbup_feature.groupby('userId').sum(\"Thumbs Up\")\n",
    "thumbup_feature = thumbup_feature.withColumnRenamed(\"sum(Thumbs Up)\", \"thumbs_up\")"
   ]
  },
  {
   "cell_type": "code",
   "execution_count": 42,
   "metadata": {},
   "outputs": [
    {
     "name": "stdout",
     "output_type": "stream",
     "text": [
      "+-------+------------------+------------------+\n",
      "|summary|            userId|         thumbs_up|\n",
      "+-------+------------------+------------------+\n",
      "|  count|               225|               225|\n",
      "|   mean|65391.013333333336|55.782222222222224|\n",
      "| stddev|105396.47791907164| 65.47792460907043|\n",
      "|    min|                10|                 0|\n",
      "|    max|                99|               437|\n",
      "+-------+------------------+------------------+\n",
      "\n"
     ]
    }
   ],
   "source": [
    "thumbup_feature.describe().show()"
   ]
  },
  {
   "cell_type": "markdown",
   "metadata": {},
   "source": [
    "#### Number of different artists listened to."
   ]
  },
  {
   "cell_type": "code",
   "execution_count": 43,
   "metadata": {},
   "outputs": [],
   "source": [
    "# only take userId, artist and drop duplicates and count how many time a singel user listened to the same artist\n",
    "listenedTo_artists = df.select(\"userId\", \"artist\").dropDuplicates().groupby(\"userId\").count()"
   ]
  },
  {
   "cell_type": "code",
   "execution_count": 44,
   "metadata": {},
   "outputs": [
    {
     "name": "stdout",
     "output_type": "stream",
     "text": [
      "+------+-----+\n",
      "|userId|count|\n",
      "+------+-----+\n",
      "|100010|  253|\n",
      "|200002|  340|\n",
      "|   125|    9|\n",
      "|    51| 1386|\n",
      "|   124| 2233|\n",
      "+------+-----+\n",
      "only showing top 5 rows\n",
      "\n"
     ]
    }
   ],
   "source": [
    "listenedTo_artists.show(5)"
   ]
  },
  {
   "cell_type": "code",
   "execution_count": 45,
   "metadata": {},
   "outputs": [],
   "source": [
    "# update the value of count column\n",
    "listenedTo_artists = listenedTo_artists.withColumnRenamed(\"count\", \"number_of_artists_listenedTo\")"
   ]
  },
  {
   "cell_type": "code",
   "execution_count": 46,
   "metadata": {},
   "outputs": [
    {
     "name": "stdout",
     "output_type": "stream",
     "text": [
      "+-------+------------------+----------------------------+\n",
      "|summary|            userId|number_of_artists_listenedTo|\n",
      "+-------+------------------+----------------------------+\n",
      "|  count|               225|                         225|\n",
      "|   mean|65391.013333333336|           697.3733333333333|\n",
      "| stddev|105396.47791907164|            603.956976648881|\n",
      "|    min|                10|                           4|\n",
      "|    max|                99|                        3545|\n",
      "+-------+------------------+----------------------------+\n",
      "\n"
     ]
    }
   ],
   "source": [
    "listenedTo_artists.describe().show()"
   ]
  },
  {
   "cell_type": "markdown",
   "metadata": {},
   "source": [
    "New we have our features ready, we need to add churn label"
   ]
  },
  {
   "cell_type": "code",
   "execution_count": 47,
   "metadata": {},
   "outputs": [],
   "source": [
    "# only take userId, churn and drop duplicates, group by userId nnd churn\n",
    "label = df.select(\"userId\", \"churn\").dropDuplicates().groupby(\"userId\", \"churn\").count()"
   ]
  },
  {
   "cell_type": "code",
   "execution_count": 48,
   "metadata": {},
   "outputs": [
    {
     "data": {
      "text/plain": [
       "225"
      ]
     },
     "execution_count": 48,
     "metadata": {},
     "output_type": "execute_result"
    }
   ],
   "source": [
    "label.count()"
   ]
  },
  {
   "cell_type": "code",
   "execution_count": 49,
   "metadata": {},
   "outputs": [
    {
     "name": "stdout",
     "output_type": "stream",
     "text": [
      "+------+-----+-----+\n",
      "|userId|churn|count|\n",
      "+------+-----+-----+\n",
      "|100010|    0|    1|\n",
      "|200002|    0|    1|\n",
      "|   125|    1|    1|\n",
      "|   124|    0|    1|\n",
      "|    51|    1|    1|\n",
      "+------+-----+-----+\n",
      "only showing top 5 rows\n",
      "\n"
     ]
    }
   ],
   "source": [
    "label.show(5)"
   ]
  },
  {
   "cell_type": "code",
   "execution_count": 50,
   "metadata": {},
   "outputs": [
    {
     "name": "stdout",
     "output_type": "stream",
     "text": [
      "+------+-----+\n",
      "|userId|label|\n",
      "+------+-----+\n",
      "|100010|    0|\n",
      "|200002|    0|\n",
      "|   125|    1|\n",
      "|   124|    0|\n",
      "|    51|    1|\n",
      "|     7|    0|\n",
      "|    15|    0|\n",
      "|    54|    1|\n",
      "|   155|    0|\n",
      "|100014|    1|\n",
      "+------+-----+\n",
      "only showing top 10 rows\n",
      "\n"
     ]
    }
   ],
   "source": [
    "# dropping count column and renameing churn to label\n",
    "label = label.drop('count')\n",
    "label = label.withColumnRenamed(\"churn\", \"label\")\n",
    "label.show(10)"
   ]
  },
  {
   "cell_type": "code",
   "execution_count": 51,
   "metadata": {},
   "outputs": [],
   "source": [
    "# joining the features to a dataframe using unique value userId, and dropping userId\n",
    "features_join_df = gender_changed_m0_f1\\\n",
    "                   .join(df_level2, [\"userId\"])\\\n",
    "                   .join(thumbdown_feature, [\"userId\"])\\\n",
    "                   .join(thumbup_feature, [\"userId\"])\\\n",
    "                   .join(listenedTo_artists, [\"userId\"])\\\n",
    "                   .join(label, [\"userId\"])\\\n",
    "                   .drop('userID')"
   ]
  },
  {
   "cell_type": "code",
   "execution_count": 52,
   "metadata": {},
   "outputs": [
    {
     "name": "stdout",
     "output_type": "stream",
     "text": [
      "+------+-----+-----------+---------+----------------------------+-----+\n",
      "|gender|level|thumbs_down|thumbs_up|number_of_artists_listenedTo|label|\n",
      "+------+-----+-----------+---------+----------------------------+-----+\n",
      "|     1|    0|          5|       17|                         253|    0|\n",
      "|     0|    1|          6|       21|                         340|    0|\n",
      "|     0|    0|          0|        0|                           9|    1|\n",
      "|     1|    1|         41|      171|                        2233|    0|\n",
      "|     0|    1|         21|      100|                        1386|    1|\n",
      "|     0|    0|          1|        7|                         143|    0|\n",
      "|     0|    1|         14|       81|                        1303|    0|\n",
      "|     1|    1|         29|      163|                        1745|    1|\n",
      "|     1|    1|          3|       58|                         644|    0|\n",
      "|     0|    1|          3|       17|                         234|    1|\n",
      "+------+-----+-----------+---------+----------------------------+-----+\n",
      "only showing top 10 rows\n",
      "\n"
     ]
    }
   ],
   "source": [
    "features_join_df.show(10)"
   ]
  },
  {
   "cell_type": "markdown",
   "metadata": {},
   "source": [
    "Now we have the dataframe ready for the model, we need to check a few things first.."
   ]
  },
  {
   "cell_type": "code",
   "execution_count": 53,
   "metadata": {},
   "outputs": [
    {
     "name": "stdout",
     "output_type": "stream",
     "text": [
      "root\n",
      " |-- gender: integer (nullable = false)\n",
      " |-- level: integer (nullable = false)\n",
      " |-- thumbs_down: long (nullable = true)\n",
      " |-- thumbs_up: long (nullable = true)\n",
      " |-- number_of_artists_listenedTo: long (nullable = false)\n",
      " |-- label: integer (nullable = true)\n",
      "\n"
     ]
    }
   ],
   "source": [
    "# Prints out the schema in the tree format and cehck for data types\n",
    "features_join_df.printSchema()"
   ]
  },
  {
   "cell_type": "markdown",
   "metadata": {},
   "source": [
    "there is two types of datat types, it's best to change it all to the same data type."
   ]
  },
  {
   "cell_type": "code",
   "execution_count": 54,
   "metadata": {},
   "outputs": [],
   "source": [
    "# loop to go throu all the columns and casting them to float type \n",
    "for i in features_join_df.columns:\n",
    "    features_join_df = features_join_df.withColumn(i, features_join_df[i].cast('float'))"
   ]
  },
  {
   "cell_type": "code",
   "execution_count": 55,
   "metadata": {},
   "outputs": [
    {
     "name": "stdout",
     "output_type": "stream",
     "text": [
      "root\n",
      " |-- gender: float (nullable = false)\n",
      " |-- level: float (nullable = false)\n",
      " |-- thumbs_down: float (nullable = true)\n",
      " |-- thumbs_up: float (nullable = true)\n",
      " |-- number_of_artists_listenedTo: float (nullable = false)\n",
      " |-- label: float (nullable = true)\n",
      "\n"
     ]
    }
   ],
   "source": [
    "# Prints out the schema in the tree format and cehck for data types\n",
    "features_join_df.printSchema()"
   ]
  },
  {
   "cell_type": "markdown",
   "metadata": {},
   "source": [
    "Nice, now let's do Vector Assembly .."
   ]
  },
  {
   "cell_type": "code",
   "execution_count": 56,
   "metadata": {},
   "outputs": [],
   "source": [
    "# Vector assembler\n",
    "columns = [\"gender\", \"level\", \"thumbs_down\", \"thumbs_up\", \"number_of_artists_listenedTo\"]\n",
    "v_assembler = VectorAssembler(inputCols=columns, outputCol=\"v_features\")\n",
    "features_join_df = v_assembler.transform(features_join_df)"
   ]
  },
  {
   "cell_type": "code",
   "execution_count": 57,
   "metadata": {},
   "outputs": [
    {
     "name": "stdout",
     "output_type": "stream",
     "text": [
      "+------+-----+-----------+---------+----------------------------+-----+--------------------+\n",
      "|gender|level|thumbs_down|thumbs_up|number_of_artists_listenedTo|label|          v_features|\n",
      "+------+-----+-----------+---------+----------------------------+-----+--------------------+\n",
      "|   1.0|  0.0|        5.0|     17.0|                       253.0|  0.0|[1.0,0.0,5.0,17.0...|\n",
      "|   0.0|  1.0|        6.0|     21.0|                       340.0|  0.0|[0.0,1.0,6.0,21.0...|\n",
      "|   0.0|  0.0|        0.0|      0.0|                         9.0|  1.0|       (5,[4],[9.0])|\n",
      "|   1.0|  1.0|       41.0|    171.0|                      2233.0|  0.0|[1.0,1.0,41.0,171...|\n",
      "|   0.0|  1.0|       21.0|    100.0|                      1386.0|  1.0|[0.0,1.0,21.0,100...|\n",
      "|   0.0|  0.0|        1.0|      7.0|                       143.0|  0.0|[0.0,0.0,1.0,7.0,...|\n",
      "|   0.0|  1.0|       14.0|     81.0|                      1303.0|  0.0|[0.0,1.0,14.0,81....|\n",
      "|   1.0|  1.0|       29.0|    163.0|                      1745.0|  1.0|[1.0,1.0,29.0,163...|\n",
      "|   1.0|  1.0|        3.0|     58.0|                       644.0|  0.0|[1.0,1.0,3.0,58.0...|\n",
      "|   0.0|  1.0|        3.0|     17.0|                       234.0|  1.0|[0.0,1.0,3.0,17.0...|\n",
      "+------+-----+-----------+---------+----------------------------+-----+--------------------+\n",
      "only showing top 10 rows\n",
      "\n"
     ]
    }
   ],
   "source": [
    "features_join_df.show(10)"
   ]
  },
  {
   "cell_type": "markdown",
   "metadata": {},
   "source": [
    "second step is to standardize the features by taking the mean and divided by the standard deviation for each feature."
   ]
  },
  {
   "cell_type": "code",
   "execution_count": 58,
   "metadata": {},
   "outputs": [],
   "source": [
    "# standardize the features\n",
    "scaler = StandardScaler(inputCol=\"v_features\", outputCol=\"features\", withStd=True)\n",
    "scalerModel = scaler.fit(features_join_df)"
   ]
  },
  {
   "cell_type": "code",
   "execution_count": 59,
   "metadata": {},
   "outputs": [],
   "source": [
    "features_join_df = scalerModel.transform(features_join_df)"
   ]
  },
  {
   "cell_type": "code",
   "execution_count": 60,
   "metadata": {},
   "outputs": [
    {
     "name": "stdout",
     "output_type": "stream",
     "text": [
      "+------+-----+-----------+---------+----------------------------+-----+--------------------+--------------------+\n",
      "|gender|level|thumbs_down|thumbs_up|number_of_artists_listenedTo|label|          v_features|            features|\n",
      "+------+-----+-----------+---------+----------------------------+-----+--------------------+--------------------+\n",
      "|   1.0|  0.0|        5.0|     17.0|                       253.0|  0.0|[1.0,0.0,5.0,17.0...|[2.00127105192366...|\n",
      "|   0.0|  1.0|        6.0|     21.0|                       340.0|  0.0|[0.0,1.0,6.0,21.0...|[0.0,2.0844250013...|\n",
      "+------+-----+-----------+---------+----------------------------+-----+--------------------+--------------------+\n",
      "only showing top 2 rows\n",
      "\n"
     ]
    }
   ],
   "source": [
    "features_join_df.show(2)"
   ]
  },
  {
   "cell_type": "markdown",
   "metadata": {},
   "source": [
    "now we need split the data to train, test and validation"
   ]
  },
  {
   "cell_type": "code",
   "execution_count": 61,
   "metadata": {},
   "outputs": [],
   "source": [
    "# train test split\n",
    "train, test, validation= features_join_df.randomSplit([0.6, 0.2, 0.2], seed=1385)"
   ]
  },
  {
   "cell_type": "code",
   "execution_count": 62,
   "metadata": {},
   "outputs": [
    {
     "data": {
      "text/plain": [
       "133"
      ]
     },
     "execution_count": 62,
     "metadata": {},
     "output_type": "execute_result"
    }
   ],
   "source": [
    "train_count = train.count()\n",
    "train_count"
   ]
  },
  {
   "cell_type": "code",
   "execution_count": 63,
   "metadata": {},
   "outputs": [
    {
     "data": {
      "text/plain": [
       "42"
      ]
     },
     "execution_count": 63,
     "metadata": {},
     "output_type": "execute_result"
    }
   ],
   "source": [
    "test_count = test.count()\n",
    "test_count"
   ]
  },
  {
   "cell_type": "code",
   "execution_count": 64,
   "metadata": {},
   "outputs": [
    {
     "data": {
      "text/plain": [
       "50"
      ]
     },
     "execution_count": 64,
     "metadata": {},
     "output_type": "execute_result"
    }
   ],
   "source": [
    "validation_count = validation.count()\n",
    "validation_count"
   ]
  },
  {
   "cell_type": "code",
   "execution_count": 65,
   "metadata": {},
   "outputs": [
    {
     "name": "stdout",
     "output_type": "stream",
     "text": [
      "225\n"
     ]
    }
   ],
   "source": [
    "# printing the sum of all splits - must be 225 \n",
    "print(train_count + test_count + validation_count)"
   ]
  },
  {
   "cell_type": "markdown",
   "metadata": {},
   "source": [
    "# Modeling\n",
    "Split the full dataset into train, test, and validation sets. Test out several of the machine learning methods you learned. Evaluate the accuracy of the various models, tuning parameters as necessary. Determine your winning model based on test accuracy and report results on the validation set. Since the churned users are a fairly small subset, I suggest using F1 score as the metric to optimize."
   ]
  },
  {
   "cell_type": "markdown",
   "metadata": {},
   "source": [
    "Now we can start modelling. we will identify the model with the best F1 score, accuracy and time."
   ]
  },
  {
   "cell_type": "markdown",
   "metadata": {},
   "source": [
    "### 1st : Baseline Model"
   ]
  },
  {
   "cell_type": "markdown",
   "metadata": {},
   "source": [
    "we will do two baseline models, for all users with churn = 1, and all users with churn = 0"
   ]
  },
  {
   "cell_type": "code",
   "execution_count": 66,
   "metadata": {},
   "outputs": [],
   "source": [
    "# create column called prediction and assign an intial value for all users \n",
    "f1_all_1 = test.withColumn('prediction', lit(1.0))\n",
    "f1_all_0 = test.withColumn('prediction', lit(0.0))"
   ]
  },
  {
   "cell_type": "code",
   "execution_count": 67,
   "metadata": {},
   "outputs": [
    {
     "name": "stdout",
     "output_type": "stream",
     "text": [
      "+------+-----+-----------+---------+----------------------------+-----+--------------------+--------------------+----------+\n",
      "|gender|level|thumbs_down|thumbs_up|number_of_artists_listenedTo|label|          v_features|            features|prediction|\n",
      "+------+-----+-----------+---------+----------------------------+-----+--------------------+--------------------+----------+\n",
      "|   0.0|  1.0|        6.0|     21.0|                       340.0|  0.0|[0.0,1.0,6.0,21.0...|[0.0,2.0844250013...|       1.0|\n",
      "+------+-----+-----------+---------+----------------------------+-----+--------------------+--------------------+----------+\n",
      "only showing top 1 row\n",
      "\n"
     ]
    }
   ],
   "source": [
    "f1_all_1.show(1)"
   ]
  },
  {
   "cell_type": "code",
   "execution_count": 68,
   "metadata": {},
   "outputs": [
    {
     "name": "stdout",
     "output_type": "stream",
     "text": [
      "+------+-----+-----------+---------+----------------------------+-----+--------------------+--------------------+----------+\n",
      "|gender|level|thumbs_down|thumbs_up|number_of_artists_listenedTo|label|          v_features|            features|prediction|\n",
      "+------+-----+-----------+---------+----------------------------+-----+--------------------+--------------------+----------+\n",
      "|   0.0|  1.0|        6.0|     21.0|                       340.0|  0.0|[0.0,1.0,6.0,21.0...|[0.0,2.0844250013...|       0.0|\n",
      "+------+-----+-----------+---------+----------------------------+-----+--------------------+--------------------+----------+\n",
      "only showing top 1 row\n",
      "\n"
     ]
    }
   ],
   "source": [
    "f1_all_0.show(1)"
   ]
  },
  {
   "cell_type": "markdown",
   "metadata": {},
   "source": [
    "prediction column has been added successfully"
   ]
  },
  {
   "cell_type": "code",
   "execution_count": 69,
   "metadata": {},
   "outputs": [],
   "source": [
    "# evaluate\n",
    "evaluator = MulticlassClassificationEvaluator(predictionCol=\"prediction\")\n",
    "\n",
    "accuracy = evaluator.evaluate(f1_all_1, {evaluator.metricName: \"accuracy\"})\n",
    "f1_Score = evaluator.evaluate(f1_all_1, {evaluator.metricName: \"f1\"})"
   ]
  },
  {
   "cell_type": "code",
   "execution_count": 70,
   "metadata": {},
   "outputs": [
    {
     "name": "stdout",
     "output_type": "stream",
     "text": [
      "Accuracy for all users 1 : 23.809523809523807 %\n",
      "f1_Score for all users 1 : 0.09157509157509157\n"
     ]
    }
   ],
   "source": [
    "print(\"Accuracy for all users 1 : \" + str(accuracy * 100) + \" %\")\n",
    "print(\"f1_Score for all users 1 : \" + str(f1_Score))"
   ]
  },
  {
   "cell_type": "code",
   "execution_count": 71,
   "metadata": {},
   "outputs": [],
   "source": [
    "# evaluate\n",
    "evaluator = MulticlassClassificationEvaluator(predictionCol=\"prediction\")\n",
    "\n",
    "accuracy = evaluator.evaluate(f1_all_0, {evaluator.metricName: \"accuracy\"})\n",
    "f1_Score = evaluator.evaluate(f1_all_0, {evaluator.metricName: \"f1\"})"
   ]
  },
  {
   "cell_type": "code",
   "execution_count": 72,
   "metadata": {},
   "outputs": [
    {
     "name": "stdout",
     "output_type": "stream",
     "text": [
      "Accuracy for all users 0 : 76.19047619047619 %\n",
      "f1_Score for all users 0 : 0.6589446589446589\n"
     ]
    }
   ],
   "source": [
    "print(\"Accuracy for all users 0 : \" + str(accuracy * 100) + \" %\")\n",
    "print(\"f1_Score for all users 0 : \" + str(f1_Score))"
   ]
  },
  {
   "cell_type": "markdown",
   "metadata": {},
   "source": [
    "Accuracy and f1 score for all users = 0 seems to be good! "
   ]
  },
  {
   "cell_type": "markdown",
   "metadata": {},
   "source": [
    "### 2nd : Gradient Boosted Tree"
   ]
  },
  {
   "cell_type": "code",
   "execution_count": 73,
   "metadata": {},
   "outputs": [
    {
     "name": "stdout",
     "output_type": "stream",
     "text": [
      "Time taken to process training : 13.252506081263224 Minutes.\n",
      "-----------------------------------\n",
      "GBT Train Metrics:\n",
      "Accuracy : 70.0 %\n",
      "f1_Score : 0.7367088607594936\n"
     ]
    }
   ],
   "source": [
    "# creating the classifier\n",
    "gradient_boosted_tree = GBTClassifier(maxIter = 10, seed = 1385)\n",
    "\n",
    "# create evaluator\n",
    "gbt_f1_evaluator = MulticlassClassificationEvaluator(metricName='f1')\n",
    "\n",
    "# build param grid using ParamGridBuilder\n",
    "grid = ParamGridBuilder().build()\n",
    "\n",
    "# numFolds is 3 to speed up the process\n",
    "gbtCrossValue = CrossValidator(estimator = gradient_boosted_tree, \n",
    "                              estimatorParamMaps = grid,\n",
    "                              evaluator = gbt_f1_evaluator,\n",
    "                              numFolds = 3)\n",
    "# start time\n",
    "start = time.time()\n",
    "\n",
    "#  fit the models on train dataset\n",
    "cvModel_gbt = gbtCrossValue.fit(train)\n",
    "\n",
    "# end time\n",
    "end = time.time()\n",
    "\n",
    "time_take = end - start\n",
    "if time_take >= 60:\n",
    "    print(\"Time taken to process training : \" + str(time_take / 60) + \" Minutes.\")\n",
    "else:\n",
    "    print(\"Time taken to process training : \" + str(time_take) + \" Seconds.\")\n",
    "\n",
    "cvModel_gbt.avgMetrics\n",
    "gbt_results = cvModel_gbt.transform(validation)\n",
    "\n",
    "evaluator = MulticlassClassificationEvaluator(predictionCol=\"prediction\")\n",
    "\n",
    "print('-----------------------------------')\n",
    "print('GBT Train Metrics:')\n",
    "\n",
    "accuracy = evaluator.evaluate(gbt_results, {evaluator.metricName: \"accuracy\"})\n",
    "print(\"Accuracy : \" + str(accuracy * 100) + \" %\")\n",
    "\n",
    "f1_Score = evaluator.evaluate(gbt_results, {evaluator.metricName: \"f1\"})\n",
    "print(\"f1_Score : \" + str(f1_Score))"
   ]
  },
  {
   "cell_type": "markdown",
   "metadata": {},
   "source": [
    "### 3rd : Random Forest"
   ]
  },
  {
   "cell_type": "code",
   "execution_count": 74,
   "metadata": {},
   "outputs": [
    {
     "name": "stdout",
     "output_type": "stream",
     "text": [
      "Time taken to process training : 7.30385860602061 Minutes.\n",
      "-----------------------------------\n",
      "RF Train Metrics:\n",
      "Accuracy : 84.0 %\n",
      "f1_Score : 0.8284848484848485\n"
     ]
    }
   ],
   "source": [
    "# creating the classifier\n",
    "random_forest = RandomForestClassifier()\n",
    "\n",
    "# create evaluator\n",
    "rf_f1_evaluator = MulticlassClassificationEvaluator(metricName='f1')\n",
    "\n",
    "# build param grid using ParamGridBuilder\n",
    "grid = ParamGridBuilder().build()\n",
    "\n",
    "# numFolds is 3 to speed up the process\n",
    "rfCrossValue = CrossValidator(estimator = random_forest, \n",
    "                              estimatorParamMaps = grid,\n",
    "                              evaluator = rf_f1_evaluator,\n",
    "                              numFolds = 3)\n",
    "# start time\n",
    "start = time.time()\n",
    "\n",
    "#  fit the models on train dataset\n",
    "cvModel_rf = rfCrossValue.fit(train)\n",
    "\n",
    "# end time\n",
    "end = time.time()\n",
    "\n",
    "time_take = end - start\n",
    "if time_take >= 60:\n",
    "    print(\"Time taken to process training : \" + str(time_take / 60) + \" Minutes.\")\n",
    "else:\n",
    "    print(\"Time taken to process training : \" + str(time_take) + \" Seconds.\")\n",
    "\n",
    "cvModel_rf.avgMetrics\n",
    "rf_results = cvModel_rf.transform(validation)\n",
    "\n",
    "evaluator = MulticlassClassificationEvaluator(predictionCol=\"prediction\")\n",
    "\n",
    "print('-----------------------------------')\n",
    "print('RF Train Metrics:')\n",
    "\n",
    "accuracy = evaluator.evaluate(rf_results, {evaluator.metricName: \"accuracy\"})\n",
    "print(\"Accuracy : \" + str(accuracy * 100) + \" %\")\n",
    "\n",
    "f1_Score = evaluator.evaluate(rf_results, {evaluator.metricName: \"f1\"})\n",
    "print(\"f1_Score : \" + str(f1_Score))"
   ]
  },
  {
   "cell_type": "markdown",
   "metadata": {},
   "source": [
    "### 4th : Logistic Regression"
   ]
  },
  {
   "cell_type": "code",
   "execution_count": 75,
   "metadata": {},
   "outputs": [
    {
     "name": "stdout",
     "output_type": "stream",
     "text": [
      "Time taken to process training : 6.087982372442881 Minutes.\n",
      "-----------------------------------\n",
      "LR Train Metrics:\n",
      "Accuracy : 86.0 %\n",
      "f1_Score : 0.7952688172043011\n"
     ]
    }
   ],
   "source": [
    "# creating the classifier\n",
    "logistic_regression = LogisticRegression(maxIter=10)\n",
    "\n",
    "# create evaluator\n",
    "lr_f1_evaluator = MulticlassClassificationEvaluator(metricName='f1')\n",
    "\n",
    "# build param grid using ParamGridBuilder\n",
    "grid = ParamGridBuilder().build()\n",
    "\n",
    "# numFolds is 3 to speed up the process\n",
    "lrCrossValue = CrossValidator(estimator = logistic_regression, \n",
    "                              estimatorParamMaps = grid,\n",
    "                              evaluator = lr_f1_evaluator,\n",
    "                              numFolds = 3)\n",
    "# start time\n",
    "start = time.time()\n",
    "\n",
    "#  fit the models on train dataset\n",
    "cvModel_lr = lrCrossValue.fit(train)\n",
    "\n",
    "# end time\n",
    "end = time.time()\n",
    "\n",
    "time_take = end - start\n",
    "if time_take >= 60:\n",
    "    print(\"Time taken to process training : \" + str(time_take / 60) + \" Minutes.\")\n",
    "else:\n",
    "    print(\"Time taken to process training : \" + str(time_take) + \" Seconds.\")\n",
    "\n",
    "cvModel_lr.avgMetrics\n",
    "lr_results = cvModel_lr.transform(validation)\n",
    "\n",
    "evaluator = MulticlassClassificationEvaluator(predictionCol=\"prediction\")\n",
    "\n",
    "print('-----------------------------------')\n",
    "print('LR Train Metrics:')\n",
    "\n",
    "accuracy = evaluator.evaluate(lr_results, {evaluator.metricName: \"accuracy\"})\n",
    "print(\"Accuracy : \" + str(accuracy * 100) + \" %\")\n",
    "\n",
    "f1_Score = evaluator.evaluate(lr_results, {evaluator.metricName: \"f1\"})\n",
    "print(\"f1_Score : \" + str(f1_Score))"
   ]
  },
  {
   "cell_type": "markdown",
   "metadata": {},
   "source": [
    "### Comments on Model Performances :\n",
    "- Baseline Model : \n",
    "    - Accuracy :**76 %**\n",
    "    - F1 Score :**0.6589446589446589**\n",
    "- Gradient Boosted Tree : \n",
    "    - Accuracy :**70.0 %**\n",
    "    - F1 Score :**0.7367088607594936**\n",
    "    - Time :**12 Minutes.**\n",
    "- Random Forest :\n",
    "    - Accuracy :**82.0 %**\n",
    "    - F1 Score :**0.8141114058355438**\n",
    "    - Time :**6.7 Minutes.**\n",
    "- Logistic Regression :\n",
    "    - Accuracy :**86.0 %**\n",
    "    - F1 Score :**0.7952688172043011** \n",
    "    - Time :**5.6 Minutes.**"
   ]
  },
  {
   "cell_type": "markdown",
   "metadata": {},
   "source": [
    "##### So the best model as we can see is Random Forest with the highest F1 score, and can even be improved by hyperparameter tuning."
   ]
  },
  {
   "cell_type": "markdown",
   "metadata": {},
   "source": [
    "## Hyper-Parameter Tuning"
   ]
  },
  {
   "cell_type": "code",
   "execution_count": 76,
   "metadata": {},
   "outputs": [],
   "source": [
    "# creating the classifier\n",
    "random_forest = RandomForestClassifier(seed=1385)\n",
    "\n",
    "# create evaluator\n",
    "rf_f1_evaluator = MulticlassClassificationEvaluator(metricName='f1')\n",
    "\n",
    "# build param grid using ParamGridBuilder\n",
    "# Should be \n",
    "    # ParamGridBuilder()\n",
    "    # .addGrid(random_forest.numTrees,[20, 50, 100])\n",
    "    # .addGrid(random_forest.maxDepth,[5, 10, 15])\n",
    "    # .build()\n",
    "# but for the time is taken we will sticking for the below\n",
    "grid = ParamGridBuilder() \\\n",
    "    .addGrid(random_forest.numTrees,[20]) \\\n",
    "    .addGrid(random_forest.maxDepth,[5]) \\\n",
    "    .build()\n",
    "\n",
    "# numFolds is 3 to speed up the process\n",
    "rfCrossValue = CrossValidator(estimator = random_forest, \n",
    "                              estimatorParamMaps = grid,\n",
    "                              evaluator = rf_f1_evaluator,\n",
    "                              numFolds = 3)"
   ]
  },
  {
   "cell_type": "code",
   "execution_count": 77,
   "metadata": {
    "scrolled": true
   },
   "outputs": [
    {
     "name": "stdout",
     "output_type": "stream",
     "text": [
      "Time taken to process training : 7.1213348786036175 Minutes.\n",
      "----------------------------------------------\n"
     ]
    },
    {
     "data": {
      "text/plain": [
       "[0.6689497573175816]"
      ]
     },
     "execution_count": 77,
     "metadata": {},
     "output_type": "execute_result"
    }
   ],
   "source": [
    "start = time.time()\n",
    "cvModel_rf = rfCrossValue.fit(train)\n",
    "end = time.time()\n",
    "\n",
    "time_take = end - start\n",
    "if time_take >= 60:\n",
    "    print(\"Time taken to process training : \" + str(time_take / 60) + \" Minutes.\")\n",
    "else:\n",
    "    print(\"Time taken to process training : \" + str(time_take) + \" Seconds.\")\n",
    "\n",
    "\n",
    "print('----------------------------------------------')\n",
    "cvModel_rf.avgMetrics"
   ]
  },
  {
   "cell_type": "markdown",
   "metadata": {},
   "source": [
    "### Best model"
   ]
  },
  {
   "cell_type": "code",
   "execution_count": 78,
   "metadata": {},
   "outputs": [],
   "source": [
    "rf_final_results = cvModel_rf.transform(validation)"
   ]
  },
  {
   "cell_type": "code",
   "execution_count": 79,
   "metadata": {},
   "outputs": [
    {
     "name": "stdout",
     "output_type": "stream",
     "text": [
      "RF Test Metrics:\n",
      "Accuracy : 84.0 %\n",
      "f1_Score : 0.8284848484848485\n"
     ]
    }
   ],
   "source": [
    "evaluator = MulticlassClassificationEvaluator(predictionCol=\"prediction\")\n",
    "\n",
    "print('RF Test Metrics:')\n",
    "\n",
    "accuracy = evaluator.evaluate(rf_results, {evaluator.metricName: \"accuracy\"})\n",
    "print(\"Accuracy : \" + str(accuracy * 100) + \" %\")\n",
    "\n",
    "f1_Score = evaluator.evaluate(rf_results, {evaluator.metricName: \"f1\"})\n",
    "print(\"f1_Score : \" + str(f1_Score))"
   ]
  },
  {
   "cell_type": "markdown",
   "metadata": {},
   "source": [
    "### Best Number of trees and Max Depth Parameters"
   ]
  },
  {
   "cell_type": "code",
   "execution_count": 80,
   "metadata": {},
   "outputs": [],
   "source": [
    "best_model = cvModel_rf.bestModel"
   ]
  },
  {
   "cell_type": "code",
   "execution_count": 81,
   "metadata": {},
   "outputs": [
    {
     "name": "stdout",
     "output_type": "stream",
     "text": [
      "Best Number of Trees Parameter:  20\n",
      "Best Max Depth Parameter:  5\n"
     ]
    }
   ],
   "source": [
    "print (\"Best Number of Trees Parameter: \", best_model._java_obj.getNumTrees())\n",
    "print (\"Best Max Depth Parameter: \", best_model._java_obj.getMaxDepth())"
   ]
  },
  {
   "cell_type": "markdown",
   "metadata": {},
   "source": [
    "### Feature Importance from Random Forest model"
   ]
  },
  {
   "cell_type": "code",
   "execution_count": 82,
   "metadata": {
    "scrolled": true
   },
   "outputs": [],
   "source": [
    "importances = best_model.featureImportances"
   ]
  },
  {
   "cell_type": "code",
   "execution_count": 83,
   "metadata": {},
   "outputs": [],
   "source": [
    "x_values = list(range(len(importances)))"
   ]
  },
  {
   "cell_type": "code",
   "execution_count": 84,
   "metadata": {},
   "outputs": [],
   "source": [
    "feature_list = list([\"gender\", \"level\", \"thumbs_down\", \"thumbs_up\", \"number_of_artists_listenedTo\"])"
   ]
  },
  {
   "cell_type": "code",
   "execution_count": 87,
   "metadata": {},
   "outputs": [
    {
     "data": {
      "image/png": "[encoded data removed]",
      "text/plain": [
       "<matplotlib.figure.Figure at 0x7f19205ec710>"
      ]
     },
     "metadata": {
      "needs_background": "light"
     },
     "output_type": "display_data"
    }
   ],
   "source": [
    "plt.figure(figsize=[8,6])\n",
    "plt.bar(x_values, importances, orientation = 'vertical')\n",
    "plt.xticks(x_values, feature_list, rotation=40)\n",
    "plt.ylabel('Importance')\n",
    "plt.xlabel('Feature')\n",
    "plt.title('Feature Importances');"
   ]
  },
  {
   "cell_type": "markdown",
   "metadata": {},
   "source": [
    "As we can see that the features with the highest importance was Thumbs up, Thumbs down and Number of artists listened since registered. level is the least important features."
   ]
  },
  {
   "cell_type": "markdown",
   "metadata": {},
   "source": [
    "## Conclusions"
   ]
  },
  {
   "cell_type": "markdown",
   "metadata": {},
   "source": [
    "We did our work with a small dataset of just 225 unique customers. We implemented a model trying to predict customer churn. We removed rows with no userId, converted timestamp to a human readable format, converted gender to binary numeric column so we were able to build out the most promising features. We then preprocessed these and used the features with different machine learning algorithms. Random Forest performed the best, so we tuned the model and achieved an accuracy and F1 score of 0.82."
   ]
  },
  {
   "cell_type": "markdown",
   "metadata": {},
   "source": [
    "## Reflection"
   ]
  },
  {
   "cell_type": "markdown",
   "metadata": {},
   "source": [
    "I used Spark ML library to build machine learning models to predict churn. It was interesting to start with a dataset which had the customers' user interactions and then use this to predict whether or not they were likely to churn. The best model was the Random Forest classifier which achieved an accuracy and F1 score of 0.82. Also brainstorming the features that we can derived from the data we have on hand is a bit challenging."
   ]
  },
  {
   "cell_type": "markdown",
   "metadata": {},
   "source": [
    "## Improvements"
   ]
  },
  {
   "cell_type": "markdown",
   "metadata": {},
   "source": [
    "The features can be improved a lot after considering more factors:\n",
    "- doing more feature engineering\n",
    "- we can use more data to have better results\n",
    "- trying to avoid overfitting"
   ]
  },
  {
   "cell_type": "markdown",
   "metadata": {},
   "source": [
    "# Acknowledgments"
   ]
  },
  {
   "cell_type": "markdown",
   "metadata": {},
   "source": [
    "- https://spark.apache.org/docs/3.1.1/api/python/reference/api/pyspark.SparkContext.html\n",
    "- https://stackoverflow.com/questions/33742895/how-to-show-full-column-content-in-a-spark-dataframe\n",
    "- https://pandas.pydata.org/docs/reference/api/pandas.DataFrame.duplicated.html\n",
    "- https://stackoverflow.com/questions/29530232/how-to-check-if-any-value-is-nan-in-a-pandas-dataframe#:~:text=To%20do%20this%20we%20can,there%20are%20no%20missing%20values.\n",
    "- https://spark.apache.org/docs/latest/api/python/reference/api/pyspark.sql.Column.isNull.html\n",
    "- https://spark.apache.org/docs/latest/api/python/reference/api/pyspark.SparkConf.getAll.html\n",
    "- https://spark.apache.org/docs/latest/sql-getting-started.html\n",
    "- https://sparkbyexamples.com/spark/spark-sql-window-functions/\n",
    "- https://spark.apache.org/docs/latest/api/python/reference/api/pyspark.sql.DataFrame.filter.html\n",
    "- https://spark.apache.org/docs/latest/api/python/reference/api/pyspark.sql.DataFrame.printSchema.html\n",
    "- https://sparkbyexamples.com/spark/spark-cast-string-type-to-integer-type-int/\n",
    "- https://spark.apache.org/docs/latest/ml-tuning.html"
   ]
  },
  {
   "cell_type": "markdown",
   "metadata": {},
   "source": [
    "## Work done by :  Ali Alkhowaiter\n",
    "## GitHub : https://github.com/Ali2l"
   ]
  }
 ],
 "metadata": {
  "kernelspec": {
   "display_name": "Python 3",
   "language": "python",
   "name": "python3"
  },
  "language_info": {
   "codemirror_mode": {
    "name": "ipython",
    "version": 3
   },
   "file_extension": ".py",
   "mimetype": "text/x-python",
   "name": "python",
   "nbconvert_exporter": "python",
   "pygments_lexer": "ipython3",
   "version": "3.6.3"
  }
 },
 "nbformat": 4,
 "nbformat_minor": 2
}
